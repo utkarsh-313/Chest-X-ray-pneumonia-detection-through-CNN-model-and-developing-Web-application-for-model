{
 "cells": [
  {
   "cell_type": "code",
   "execution_count": 1,
   "id": "15d683df",
   "metadata": {},
   "outputs": [],
   "source": [
    "# All library for CNN Model\n",
    "# Using Tenserflow backend\n",
    "\n",
    "import warnings\n",
    "warnings.filterwarnings('ignore')\n",
    "from tensorflow import keras\n",
    "from keras.layers import Input, Lambda, Dense, Flatten\n",
    "import tensorflow as tf\n",
    "from keras.models import Model\n",
    "from keras.applications.vgg16 import VGG16\n",
    "from keras.applications.vgg16 import preprocess_input\n",
    "from keras.preprocessing import image\n",
    "from keras_preprocessing.image import ImageDataGenerator\n",
    "from keras.models import Sequential\n",
    "import numpy as np\n",
    "from glob import glob\n",
    "import matplotlib.pyplot as plt"
   ]
  },
  {
   "cell_type": "code",
   "execution_count": 2,
   "id": "ddc620a8",
   "metadata": {},
   "outputs": [],
   "source": [
    "# Color pilex size\n",
    "Image_Size = [224,224]\n",
    "\n",
    "# Setting up the path\n",
    "train_path = 'C:/Symbiosis/Summer_Project/chest_xray/chest_xray/train'\n",
    "test_path = 'C:/Symbiosis/Summer_Project/chest_xray/chest_xray/test'"
   ]
  },
  {
   "cell_type": "code",
   "execution_count": 3,
   "id": "28019afd",
   "metadata": {},
   "outputs": [],
   "source": [
    "# Use to predict our model\n",
    "vgg = VGG16(input_shape = Image_Size + [3], weights = 'imagenet', include_top = False)\n",
    "\n",
    "#For ignoring the untrain file\n",
    "for layer in vgg.layers:\n",
    "    layer.trainable = False"
   ]
  },
  {
   "cell_type": "code",
   "execution_count": 4,
   "id": "449673de",
   "metadata": {},
   "outputs": [],
   "source": [
    "#Output length\n",
    "folders = glob('C:/Symbiosis/Summer_Project/chest_xray/chest_xray/train/*')\n",
    "#Adding more layer\n",
    "x = Flatten()(vgg.output)"
   ]
  },
  {
   "cell_type": "code",
   "execution_count": 5,
   "id": "d18c3233",
   "metadata": {},
   "outputs": [
    {
     "name": "stdout",
     "output_type": "stream",
     "text": [
      "Model: \"model\"\n",
      "_________________________________________________________________\n",
      " Layer (type)                Output Shape              Param #   \n",
      "=================================================================\n",
      " input_1 (InputLayer)        [(None, 224, 224, 3)]     0         \n",
      "                                                                 \n",
      " block1_conv1 (Conv2D)       (None, 224, 224, 64)      1792      \n",
      "                                                                 \n",
      " block1_conv2 (Conv2D)       (None, 224, 224, 64)      36928     \n",
      "                                                                 \n",
      " block1_pool (MaxPooling2D)  (None, 112, 112, 64)      0         \n",
      "                                                                 \n",
      " block2_conv1 (Conv2D)       (None, 112, 112, 128)     73856     \n",
      "                                                                 \n",
      " block2_conv2 (Conv2D)       (None, 112, 112, 128)     147584    \n",
      "                                                                 \n",
      " block2_pool (MaxPooling2D)  (None, 56, 56, 128)       0         \n",
      "                                                                 \n",
      " block3_conv1 (Conv2D)       (None, 56, 56, 256)       295168    \n",
      "                                                                 \n",
      " block3_conv2 (Conv2D)       (None, 56, 56, 256)       590080    \n",
      "                                                                 \n",
      " block3_conv3 (Conv2D)       (None, 56, 56, 256)       590080    \n",
      "                                                                 \n",
      " block3_pool (MaxPooling2D)  (None, 28, 28, 256)       0         \n",
      "                                                                 \n",
      " block4_conv1 (Conv2D)       (None, 28, 28, 512)       1180160   \n",
      "                                                                 \n",
      " block4_conv2 (Conv2D)       (None, 28, 28, 512)       2359808   \n",
      "                                                                 \n",
      " block4_conv3 (Conv2D)       (None, 28, 28, 512)       2359808   \n",
      "                                                                 \n",
      " block4_pool (MaxPooling2D)  (None, 14, 14, 512)       0         \n",
      "                                                                 \n",
      " block5_conv1 (Conv2D)       (None, 14, 14, 512)       2359808   \n",
      "                                                                 \n",
      " block5_conv2 (Conv2D)       (None, 14, 14, 512)       2359808   \n",
      "                                                                 \n",
      " block5_conv3 (Conv2D)       (None, 14, 14, 512)       2359808   \n",
      "                                                                 \n",
      " block5_pool (MaxPooling2D)  (None, 7, 7, 512)         0         \n",
      "                                                                 \n",
      " flatten (Flatten)           (None, 25088)             0         \n",
      "                                                                 \n",
      " dense (Dense)               (None, 2)                 50178     \n",
      "                                                                 \n",
      "=================================================================\n",
      "Total params: 14,764,866\n",
      "Trainable params: 50,178\n",
      "Non-trainable params: 14,714,688\n",
      "_________________________________________________________________\n"
     ]
    }
   ],
   "source": [
    "prediction = Dense(len(folders), activation='softmax')(x)\n",
    "\n",
    "# Create the model project\n",
    "model = Model(inputs=vgg.input, outputs=prediction)\n",
    "\n",
    "# View the structure of the model\n",
    "model.summary()"
   ]
  },
  {
   "cell_type": "code",
   "execution_count": 6,
   "id": "b9f84bc7",
   "metadata": {},
   "outputs": [],
   "source": [
    "#Compile and optimization\n",
    "model.compile(\n",
    "   loss = 'categorical_crossentropy',\n",
    "   optimizer = 'adam',\n",
    "   metrics=['accuracy']\n",
    ")"
   ]
  },
  {
   "cell_type": "code",
   "execution_count": 7,
   "id": "6f75610d",
   "metadata": {},
   "outputs": [
    {
     "name": "stdout",
     "output_type": "stream",
     "text": [
      "Found 5216 images belonging to 2 classes.\n",
      "Found 624 images belonging to 2 classes.\n"
     ]
    }
   ],
   "source": [
    "from keras.preprocessing.image import ImageDataGenerator\n",
    "\n",
    "train_datagen = ImageDataGenerator(rescale = 1./255,\n",
    "                                  shear_range = 0.2,\n",
    "                                  zoom_range = 0.2,\n",
    "                                  horizontal_flip = True)\n",
    "\n",
    "test_datagen = ImageDataGenerator(rescale = 1./255)\n",
    "\n",
    "# Provide same target size as initialied for the image size\n",
    "\n",
    "training_set = train_datagen.flow_from_directory('C:/Symbiosis/Summer_Project/chest_xray/chest_xray/train',\n",
    "                                                target_size=(224,224),\n",
    "                                                batch_size=10,\n",
    "                                                class_mode='categorical')\n",
    "\n",
    "\n",
    "test_set = test_datagen.flow_from_directory('C:/Symbiosis/Summer_Project/chest_xray/chest_xray/test',\n",
    "                                           target_size=(224,224),\n",
    "                                           batch_size=10,\n",
    "                                           class_mode='categorical')"
   ]
  },
  {
   "cell_type": "code",
   "execution_count": 8,
   "id": "213cdf76",
   "metadata": {},
   "outputs": [
    {
     "name": "stdout",
     "output_type": "stream",
     "text": [
      "522/522 [==============================] - 517s 989ms/step - loss: 0.1900 - accuracy: 0.9285 - val_loss: 0.4470 - val_accuracy: 0.8862\n"
     ]
    }
   ],
   "source": [
    "r = model.fit_generator(\n",
    "    training_set,\n",
    "    validation_data=test_set,\n",
    "    epochs=1,\n",
    "    steps_per_epoch=len(training_set),\n",
    "    validation_steps=len(test_set))"
   ]
  },
  {
   "cell_type": "code",
   "execution_count": 9,
   "id": "226c51fb",
   "metadata": {},
   "outputs": [],
   "source": [
    "import tensorflow as tf\n",
    "from keras.models import load_model\n",
    "\n",
    "model.save('chest_xray.h5')\n",
    "\n",
    "from keras.models import load_model\n",
    "from keras.preprocessing import image\n",
    "from keras.applications.vgg16 import preprocess_input\n",
    "import numpy as np"
   ]
  },
  {
   "cell_type": "code",
   "execution_count": 10,
   "id": "eb336dba",
   "metadata": {},
   "outputs": [],
   "source": [
    "model = load_model('chest_xray.h5')"
   ]
  },
  {
   "cell_type": "code",
   "execution_count": 19,
   "id": "9c44794a",
   "metadata": {},
   "outputs": [],
   "source": [
    "img = image.load_img('C:/Symbiosis/Summer_Project/chest_xray/chest_xray/val/PNEUMONIA/person1946_bacteria_4874.jpeg',target_size=(224,224))"
   ]
  },
  {
   "cell_type": "code",
   "execution_count": 20,
   "id": "fddddc82",
   "metadata": {},
   "outputs": [],
   "source": [
    "x = image.img_to_array(img)"
   ]
  },
  {
   "cell_type": "code",
   "execution_count": 21,
   "id": "3c75d7d7",
   "metadata": {},
   "outputs": [],
   "source": [
    "x = np.expand_dims(x, axis=0)"
   ]
  },
  {
   "cell_type": "code",
   "execution_count": 22,
   "id": "bf3badf5",
   "metadata": {},
   "outputs": [],
   "source": [
    "img_data = preprocess_input(x)"
   ]
  },
  {
   "cell_type": "code",
   "execution_count": 23,
   "id": "a7138ed8",
   "metadata": {},
   "outputs": [],
   "source": [
    "classes = model.predict(img_data)"
   ]
  },
  {
   "cell_type": "code",
   "execution_count": 24,
   "id": "a924b5f1",
   "metadata": {},
   "outputs": [],
   "source": [
    "#classes\n",
    "result = classes[0][0]"
   ]
  },
  {
   "cell_type": "code",
   "execution_count": 25,
   "id": "0ad42dfe",
   "metadata": {},
   "outputs": [
    {
     "name": "stdout",
     "output_type": "stream",
     "text": [
      "Person is effected from PNEUMONIA\n"
     ]
    }
   ],
   "source": [
    "if result>0.5:\n",
    "    print(\"Result is Normal\")\n",
    "else:\n",
    "    print(\"Person is effected from PNEUMONIA\")"
   ]
  },
  {
   "cell_type": "code",
   "execution_count": null,
   "id": "742f2398",
   "metadata": {},
   "outputs": [],
   "source": []
  },
  {
   "cell_type": "code",
   "execution_count": null,
   "id": "b9bea23e",
   "metadata": {},
   "outputs": [],
   "source": []
  }
 ],
 "metadata": {
  "kernelspec": {
   "display_name": "Python 3 (ipykernel)",
   "language": "python",
   "name": "python3"
  },
  "language_info": {
   "codemirror_mode": {
    "name": "ipython",
    "version": 3
   },
   "file_extension": ".py",
   "mimetype": "text/x-python",
   "name": "python",
   "nbconvert_exporter": "python",
   "pygments_lexer": "ipython3",
   "version": "3.9.7"
  }
 },
 "nbformat": 4,
 "nbformat_minor": 5
}
